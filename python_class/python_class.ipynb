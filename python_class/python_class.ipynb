{
 "cells": [
  {
   "cell_type": "markdown",
   "metadata": {},
   "source": [
    "\n",
    "# Concept\n",
    "Wikipedia: Python is an interpreted, high-level, general-purpose programming language\n",
    "\n",
    "\n",
    "https://docs.python.org/3.7/tutorial/index.html\n",
    "\n",
    "https://pythonbasics.org/\n",
    "\n",
    "https://book.pythontips.com/en/latest/index.html"
   ]
  },
  {
   "cell_type": "markdown",
   "metadata": {},
   "source": [
    "# Data structure and mutability"
   ]
  },
  {
   "cell_type": "markdown",
   "metadata": {},
   "source": [
    "### list"
   ]
  },
  {
   "cell_type": "code",
   "execution_count": null,
   "metadata": {},
   "outputs": [],
   "source": [
    "my_list = [1, \"2\", 4]\n",
    "\n",
    "# Add\n",
    "my_list.insert(0, 0)\n",
    "my_list.insert(3, 3)\n",
    "my_list.append(5)\n",
    "print(my_list)\n",
    "\n",
    "# Remove\n",
    "last_element = my_list.pop()\n",
    "print(last_element)\n",
    "my_list.remove(3)\n",
    "print(my_list)\n",
    "\n",
    "# Access\n",
    "print(my_list[2])\n",
    "my_list[2] = 2\n",
    "print(my_list)\n",
    "# Reverse Access\n",
    "print(my_list[-1])\n",
    "\n",
    "# Slice\n",
    "print(my_list[1:-1])\n",
    "print(my_list[0:-1:2])\n",
    "\n",
    "# Operation\n",
    "list1 = list(range(0, 10))\n",
    "list2 = list(range(10, 20))\n",
    "print(list1 + list2)"
   ]
  },
  {
   "cell_type": "markdown",
   "metadata": {},
   "source": [
    "### set"
   ]
  },
  {
   "cell_type": "code",
   "execution_count": null,
   "metadata": {},
   "outputs": [],
   "source": [
    "some_list = list(range(0, 10))\n",
    "some_list.append(5)\n",
    "print(some_list)\n",
    "some_set = set(some_list)\n",
    "print(some_set)\n",
    "\n",
    "set1 = set(range(0, 10))\n",
    "set2 = set(range(5, 15))\n",
    "\n",
    "\n",
    "print(\"Difference\")\n",
    "print(set1.difference(set2))\n",
    "print(set2.difference(set1))\n",
    "print(\"Union\")\n",
    "print(set1.union(set2))\n",
    "print(\"Intersection\")\n",
    "print(set1.intersection(set2))\n",
    "\n",
    "\n",
    "\n",
    "print(\"Difference\")\n",
    "print(set1 - set2)\n",
    "print(\"Union\")\n",
    "print(set1 | set2)\n",
    "print(\"Intersection\")\n",
    "print(set1 & set2 )"
   ]
  },
  {
   "cell_type": "markdown",
   "metadata": {},
   "source": [
    "### Dictionnary"
   ]
  },
  {
   "cell_type": "code",
   "execution_count": null,
   "metadata": {},
   "outputs": [],
   "source": [
    "dic = {1: \"a\", 2: \"b\"}\n",
    "\n",
    "print(dic)\n",
    "print(dic[2])\n",
    "dic[3] = \"c\"\n",
    "print(dic)\n",
    "\n",
    "\n",
    "print(3 in dic)\n",
    "print(\"c\" in dic)\n",
    "\n",
    "print(\"\")\n",
    "for k in dic: \n",
    "    print(k)\n",
    "print(\"\")\n",
    "for k in dic.items(): \n",
    "    print(k)\n",
    "print(\"\")\n",
    "for v in dic.values(): \n",
    "    print(v)\n",
    "print(\"\")\n",
    "for k, v in dic.items(): ²\n",
    "    print(k, v)\n",
    "    \n",
    "    \n",
    "\n",
    "dic2 = {4: \"c\", 2: \"b\"}\n",
    "dic.update(dic2)\n",
    "print(dic)"
   ]
  },
  {
   "cell_type": "markdown",
   "metadata": {},
   "source": [
    "### Comprehensions"
   ]
  },
  {
   "cell_type": "markdown",
   "metadata": {},
   "source": [
    "#### List comprehensions"
   ]
  },
  {
   "cell_type": "code",
   "execution_count": null,
   "metadata": {},
   "outputs": [],
   "source": [
    "multiples = [i for i in range(30) if i % 3 == 0]\n",
    "print(multiples)"
   ]
  },
  {
   "cell_type": "code",
   "execution_count": null,
   "metadata": {},
   "outputs": [],
   "source": [
    "squared = [x**2 for x in range(10)]\n",
    "print(squared)"
   ]
  },
  {
   "cell_type": "markdown",
   "metadata": {},
   "source": [
    "#### Dict comprehensions"
   ]
  },
  {
   "cell_type": "code",
   "execution_count": null,
   "metadata": {},
   "outputs": [],
   "source": [
    "{i: str(i) for i in range(0, 10)}"
   ]
  },
  {
   "cell_type": "markdown",
   "metadata": {},
   "source": [
    "#### Set comprehensions"
   ]
  },
  {
   "cell_type": "code",
   "execution_count": null,
   "metadata": {},
   "outputs": [],
   "source": [
    "squared = {x**2 for x in [1, 1, 2]}\n",
    "print(squared)"
   ]
  },
  {
   "cell_type": "markdown",
   "metadata": {},
   "source": [
    "### Mutability"
   ]
  },
  {
   "cell_type": "code",
   "execution_count": null,
   "metadata": {},
   "outputs": [],
   "source": [
    "a = b = 1\n",
    "\n",
    "print(a is b)\n",
    "print(id(a) == id(b))\n",
    "\n",
    "b = 2\n",
    "print(a is b)\n",
    "print(id(a) == id(b))\n",
    "\n",
    "a = b = list(range(0, 10))\n",
    "print(a is b)\n",
    "print(id(a) == id(b))\n",
    "\n",
    "a.append(11)\n",
    "print(b)\n"
   ]
  },
  {
   "cell_type": "markdown",
   "metadata": {},
   "source": [
    "# Function, scope, args, returns and decorator\n",
    "\n",
    "Variables have a certain reach within a program. A global variable can be used anywhere in a program, but a local variable is known only in a certain area (function, loop)"
   ]
  },
  {
   "cell_type": "code",
   "execution_count": null,
   "metadata": {},
   "outputs": [],
   "source": [
    "hello = \"Hello\"\n",
    "\n",
    "def foo():\n",
    "    # Variable hello comes from the global scop\n",
    "    # Define a local variable worl\n",
    "    world = \"World\"\n",
    "    print(hello, world)\n",
    "    \n",
    "def foo2():\n",
    "    # Define a local variable hello (overide global hello only in the local scope)\n",
    "    hello = \"hello\"\n",
    "    print(hello)\n",
    "    \n",
    "foo()\n",
    "foo2()\n",
    "print(hello) \n",
    "# in the global scope world is not defined"
   ]
  },
  {
   "cell_type": "markdown",
   "metadata": {},
   "source": [
    "The keyword `global` can be used to change a global variable in a local scope"
   ]
  },
  {
   "cell_type": "code",
   "execution_count": null,
   "metadata": {},
   "outputs": [],
   "source": [
    "counter = 0\n",
    "\n",
    "def globalsum(x):\n",
    "    global counter\n",
    "    counter += x\n",
    "\n",
    "globalsum(5)\n",
    "print(counter)"
   ]
  },
  {
   "cell_type": "markdown",
   "metadata": {},
   "source": [
    "A variable defined in a function is only known in a function, unless you return it."
   ]
  },
  {
   "cell_type": "code",
   "execution_count": null,
   "metadata": {},
   "outputs": [],
   "source": [
    "counter = 0\n",
    "\n",
    "def sum_it(counter, x):\n",
    "    return counter + x\n",
    "\n",
    "counter = sum_it(counter, 5)\n",
    "print(counter)"
   ]
  },
  {
   "cell_type": "code",
   "execution_count": null,
   "metadata": {},
   "outputs": [],
   "source": [
    "def func(a):\n",
    "    a.append(12)\n",
    "    \n",
    "lst = [1, 2]\n",
    "func(lst)\n",
    "print(lst)"
   ]
  },
  {
   "cell_type": "markdown",
   "metadata": {},
   "source": [
    "#### Multiple return "
   ]
  },
  {
   "cell_type": "code",
   "execution_count": null,
   "metadata": {},
   "outputs": [],
   "source": [
    "def foo():\n",
    "    return \"hello\", \"world\"\n",
    "\n",
    "hello_world = foo()\n",
    "print(hello_world)\n",
    "hello, world = foo()\n",
    "print(hello, world)"
   ]
  },
  {
   "cell_type": "markdown",
   "metadata": {},
   "source": [
    "#### Defining functions within functions"
   ]
  },
  {
   "cell_type": "code",
   "execution_count": null,
   "metadata": {},
   "outputs": [],
   "source": [
    "def hi(name=\"yasoob\"):\n",
    "    print(\"now you are inside the hi() function\")\n",
    "\n",
    "    def greet():\n",
    "        return \"now you are in the greet() function\"\n",
    "\n",
    "    def welcome():\n",
    "        return \"now you are in the welcome() function\"\n",
    "\n",
    "    print(greet())\n",
    "    print(welcome())\n",
    "    print(\"now you are back in the hi() function\")\n",
    "\n",
    "hi()"
   ]
  },
  {
   "cell_type": "markdown",
   "metadata": {},
   "source": [
    "#### Returning functions from within functions"
   ]
  },
  {
   "cell_type": "code",
   "execution_count": null,
   "metadata": {},
   "outputs": [],
   "source": [
    "def adder_factory(x):\n",
    "    def adder(y):\n",
    "        return x + y\n",
    "    return adder  # Return a closure.\n",
    "\n",
    "add_2 = adder_factory(2)\n",
    "print(add_2(5))\n",
    "add_10 = adder_factory(10)\n",
    "print(add_10(5))"
   ]
  },
  {
   "cell_type": "markdown",
   "metadata": {},
   "source": [
    "#### function as an argument to another function:"
   ]
  },
  {
   "cell_type": "code",
   "execution_count": null,
   "metadata": {},
   "outputs": [],
   "source": [
    "def wrapper(func):\n",
    "    print(\"before\")\n",
    "    func()\n",
    "    print(\"after\")\n",
    "\n",
    "def hello():\n",
    "    print(\"hello\")\n",
    "\n",
    "\n",
    "wrapper(hello)"
   ]
  },
  {
   "cell_type": "markdown",
   "metadata": {},
   "source": [
    "#### Decorator\n",
    "\n",
    "They wrap a function and modify its behaviour "
   ]
  },
  {
   "cell_type": "code",
   "execution_count": null,
   "metadata": {},
   "outputs": [],
   "source": [
    "def a_decorator(a_func):\n",
    "    def wrapper():\n",
    "        print(\"before\")\n",
    "        a_func()\n",
    "        print(\"after\")\n",
    "    return wrapper\n",
    "\n",
    "def foo():\n",
    "    print(\"Main function\")\n",
    "    \n",
    "decorated_function = a_decorator(foo)\n",
    "print(decorated_function)\n",
    "decorated_function()\n",
    "\n",
    "print(\"\")\n",
    "\n",
    "\n",
    "def a_decorator2(a_func):\n",
    "    def wrapper(arg):\n",
    "        print(\"before\")\n",
    "        a_func(arg)\n",
    "        print(\"after\")\n",
    "    return wrapper\n",
    "\n",
    "\n",
    "@a_decorator2\n",
    "def foo2(value):\n",
    "    print(value)\n",
    "    \n",
    "foo2(4)\n",
    "\n",
    "print(\"\")\n",
    "print(\"Here one problem:\")\n",
    "print(foo2)"
   ]
  },
  {
   "cell_type": "code",
   "execution_count": null,
   "metadata": {},
   "outputs": [],
   "source": [
    "from functools import wraps\n",
    "\n",
    "\n",
    "def a_decorator2(a_func):\n",
    "    @wraps(a_func)\n",
    "    def wrapper(arg):\n",
    "        print(\"before\")\n",
    "        a_func(arg)\n",
    "        print(\"after\")\n",
    "    return wrapper\n",
    "\n",
    "\n",
    "@a_decorator2\n",
    "def foo2(value):\n",
    "    print(value)\n",
    "    \n",
    "foo2(4)\n",
    "\n",
    "print(\"\")\n",
    "print(foo2)"
   ]
  },
  {
   "cell_type": "markdown",
   "metadata": {},
   "source": [
    "### Args\n",
    "Function arguments can be named and can have default value"
   ]
  },
  {
   "cell_type": "code",
   "execution_count": null,
   "metadata": {},
   "outputs": [],
   "source": [
    "def say(msg, name, extra_msg=\"\"):\n",
    "    print(\"{}: {} {}\".format(name, msg, extra_msg))\n",
    "\n",
    "\n",
    "say(\"Hello\", \"Alice\")\n",
    "say(\"Hi\", \"Bob\", extra_msg=\"how are you ?\")\n",
    "say(msg=\"Good\", name=\"Alice\", extra_msg=\"thank you\")"
   ]
  },
  {
   "cell_type": "markdown",
   "metadata": {},
   "source": [
    "### args and kwargs\n",
    "\n",
    "args and kwargs are mostly used in function definitions. args and kwargs allow you to pass a variable number of arguments to a function. What variable means here is that you do not know beforehand how many arguments can be passed to your function by the user so in this case you use these two keywords. args is used to send a non-keyworded variable length argument list to the function.\n",
    "\n"
   ]
  },
  {
   "cell_type": "code",
   "execution_count": null,
   "metadata": {},
   "outputs": [],
   "source": [
    "\n",
    "def test_args(first, second, *args):\n",
    "    print(\"first normal arg:\", first)\n",
    "    print(\"second normal arg:\", second)\n",
    "    print(\"Extra args:\", args)\n",
    "    print(\"Extra args type:\", type(args))\n",
    "    \n",
    "    \n",
    "test_args('First !', 'Second', 'some', 'extra', 'args')"
   ]
  },
  {
   "cell_type": "markdown",
   "metadata": {},
   "source": [
    "kwargs are used to handle named arguments in a function."
   ]
  },
  {
   "cell_type": "code",
   "execution_count": null,
   "metadata": {},
   "outputs": [],
   "source": [
    "def test_kwargs(first, **kwargs):\n",
    "    print(\"first normal arg:\", first)\n",
    "    print(\"Extra kwargs:\", kwargs)\n",
    "    print(\"Extra kwargs type:\", type(kwargs))\n",
    "  \n",
    "    \n",
    "test_kwargs(\"First!\", one_named_arg=\"Name1\", another_named_arg=\"Name2\")"
   ]
  },
  {
   "cell_type": "code",
   "execution_count": null,
   "metadata": {},
   "outputs": [],
   "source": [
    "# * and ** can also be used like that:\n",
    "\n",
    "def test_args_kwargs(arg1, arg2, arg3):\n",
    "    print(\"arg1:\", arg1)\n",
    "    print(\"arg2:\", arg2)\n",
    "    print(\"arg3:\", arg3)\n",
    "    \n",
    "    \n",
    "args = (\"two\", 3, 5)\n",
    "test_args_kwargs(*args)\n",
    "print(\"\")\n",
    "kwargs = {\"arg3\": 3, \"arg2\": \"two\", \"arg1\": 5}\n",
    "test_args_kwargs(*args)\n"
   ]
  },
  {
   "cell_type": "markdown",
   "metadata": {},
   "source": [
    "## Exercice\n",
    "Create a `timeit` decorator that display execution time off any function"
   ]
  },
  {
   "cell_type": "code",
   "execution_count": null,
   "metadata": {},
   "outputs": [],
   "source": [
    "# DO IT"
   ]
  },
  {
   "cell_type": "markdown",
   "metadata": {},
   "source": [
    "# Error: Exceptions\n",
    "\n",
    "Exceptions are errors that happen during execution of the program. An exception bubbles up in the call stack until someone catch it.\n",
    "If the exception is not catched; it bubbles until the main scope, the python interpreter print the exception stack and terminate."
   ]
  },
  {
   "cell_type": "code",
   "execution_count": null,
   "metadata": {},
   "outputs": [],
   "source": [
    "def division(a, b):\n",
    "    return a / b\n",
    "\n",
    "def foo(n):\n",
    "    for i in reversed(range(n)):\n",
    "        print(\"{} / {} = {}\".format(n, i, division(n, i)))\n",
    "        \n",
    "foo(5)"
   ]
  },
  {
   "cell_type": "markdown",
   "metadata": {},
   "source": [
    "Exceptions can be catch with `try/except`\n",
    "\n",
    "\n",
    "## Exercice: \n",
    "Edit the following code to catch ZeroDivisionError"
   ]
  },
  {
   "cell_type": "code",
   "execution_count": null,
   "metadata": {},
   "outputs": [],
   "source": [
    "# DO IT"
   ]
  },
  {
   "cell_type": "code",
   "execution_count": null,
   "metadata": {},
   "outputs": [],
   "source": [
    "# Advanced\n",
    "import random\n",
    "\n",
    "try:\n",
    "    if random.getrandbits(1):\n",
    "        raise ValueError(\"error 1\")\n",
    "    elif random.getrandbits(1):\n",
    "        raise TypeError(\"error 2\")\n",
    "# Catch on error\n",
    "except ValueError as e:\n",
    "    print(\"Raised: {}\".format(e))\n",
    "# Catch another type of error\n",
    "except TypeError as e:\n",
    "    print(\"Raised: {}\".format(e))\n",
    "# Executed if no errors\n",
    "else:\n",
    "    print(\"No Error\")\n",
    "# Always executed\n",
    "finally:\n",
    "    print(\"Allways executed\")"
   ]
  },
  {
   "cell_type": "code",
   "execution_count": null,
   "metadata": {},
   "outputs": [],
   "source": [
    " # Custom exception\n",
    "\n",
    "class Im540Exception(Exception):\n",
    "    def __init__(self, msg=None):\n",
    "        Exception.__init__(self, msg)\n",
    "        self.message = msg\n",
    "\n",
    "    def __str__(self):\n",
    "        s = self.message + \" !!\"\n",
    "        return s\n",
    "\n",
    "try:\n",
    "    raise Im540Exception(\"Fail\")\n",
    "except Exception as e:\n",
    "    print(e)\n"
   ]
  },
  {
   "cell_type": "markdown",
   "metadata": {},
   "source": [
    "### TIPS:\n",
    "Never do:\n",
    "```python\n",
    "try:\n",
    "    ...\n",
    "except:\n",
    "    ...\n",
    "```\n",
    "\n",
    "This is also catch system signals like SIGTERM\n",
    "```python\n",
    "from time import sleep\n",
    "\n",
    "while True: \n",
    "    try: \n",
    "        print(\"You can't stop me !\") \n",
    "        sleep(1) \n",
    "    except: \n",
    "        pass \n",
    "```"
   ]
  },
  {
   "cell_type": "markdown",
   "metadata": {},
   "source": [
    "# Class\n",
    "\n",
    "In Python, you can define objects. An object is a collection of methods and variables. Objects live somewhere in the computers memory. They can be manipulated at runtime.\n",
    "\n",
    "\n",
    "Objects are always created from classes.\n",
    "A class define each method and variable that exists within the object. "
   ]
  },
  {
   "cell_type": "code",
   "execution_count": null,
   "metadata": {},
   "outputs": [],
   "source": [
    "class Duck:\n",
    "    legs = 2 # Class attribute\n",
    "    \n",
    "    def __init__(self, name):\n",
    "        self.name = name  # Instance attribute\n",
    "    \n",
    "    def kwack(self):\n",
    "        print(\"{} says: Kwack !\".format(self.name))\n",
    "        \n",
    "\n",
    "donald = Duck(name=\"Donald\")\n",
    "scrooge = Duck(name=\"Scrooge\")\n",
    "\n",
    "\n"
   ]
  },
  {
   "cell_type": "code",
   "execution_count": null,
   "metadata": {},
   "outputs": [],
   "source": [
    "print(\"Donald is Scrooge ?\", donald is scrooge)\n",
    "print(\"Donald is a \", type(donald))\n",
    "donald.kwack()\n",
    "scrooge.kwack()\n",
    "Duck.kwack(donald)"
   ]
  },
  {
   "cell_type": "code",
   "execution_count": null,
   "metadata": {},
   "outputs": [],
   "source": [
    "\n",
    "radioactive_duck = Duck(name=\"Radioactive Duck\")\n",
    "radioactive_duck.legs = 3\n",
    "\n",
    "print(\"{} has {} legs\".format(donald.name, donald.legs))\n",
    "print(\"{} has {} legs\".format(scrooge.name, scrooge.legs))\n",
    "print(\"{} has {} legs\".format(radioactive_duck.name, radioactive_duck.legs))\n",
    "print(\"{} has {} legs\".format(\"A duck\", Duck.legs))\n",
    "\n"
   ]
  },
  {
   "cell_type": "code",
   "execution_count": null,
   "metadata": {},
   "outputs": [],
   "source": [
    "Duck.legs = 1\n",
    "\n",
    "print(\"{} has {} legs\".format(donald.name, donald.legs))\n",
    "print(\"{} has {} legs\".format(scrooge.name, scrooge.legs))\n",
    "print(\"{} has {} legs\".format(radioactive_duck.name, radioactive_duck.legs))"
   ]
  },
  {
   "cell_type": "code",
   "execution_count": null,
   "metadata": {},
   "outputs": [],
   "source": [
    "class Bird:\n",
    "    legs = 2 # Class attribute\n",
    "    \n",
    "    def __init__(self, name=\"\"):\n",
    "        self.name = name\n",
    "        \n",
    "    def can_fly(self):\n",
    "        return True\n",
    "\n",
    "    \n",
    "class Duck(Bird):\n",
    "    \n",
    "    def __init__(self, name):\n",
    "        Bird.__init__(self, name)\n",
    "    \n",
    "    def kwack(self):\n",
    "        print(\"{} says: Kwack !\".format(self.name))\n",
    "\n",
    "\n",
    "donald = Duck(name=\"Donald\")\n",
    "print(donald.can_fly())"
   ]
  },
  {
   "cell_type": "markdown",
   "metadata": {},
   "source": [
    "# For loop, Iterable/Iterator, Generator\n",
    "\n",
    "An iteratable is a Python object that can return an iterator. A python object is an iterable if it implements the method ```__iter__```\n",
    "\n",
    "An iterator can be used as a sequence. You can go to the next item of the sequence using the next() method. (an iterator implement ```__next__```)\n",
    "\n",
    "You can loop over an iterator, but you cannot access individual elements directly. It’s a container object: it can only return one of its element at the time. \n",
    "\n",
    "When all elmement are consumed, an iterator raise a ```StopIteration``` exception\n",
    "\n",
    "\n",
    "A for loop calls iter() on an object. It then calls next() on the iterator until getting a StopIteration exception"
   ]
  },
  {
   "cell_type": "code",
   "execution_count": null,
   "metadata": {},
   "outputs": [],
   "source": [
    "iteratable = [1, 2, 3, 4]\n",
    "\n",
    "# list can be iterate\n",
    "for d in iteratable: \n",
    "    print(d)\n",
    "\n",
    "print(\"\")\n",
    "# list returns an iterator\n",
    "iterator = iter(data)\n",
    "print(iterator)\n",
    "# An iterator iterates on itself\n",
    "print(iter(iterator))\n",
    "\n",
    "print(\"\")\n",
    "# Iterator returns the next value\n",
    "print(next(iterator))\n",
    "print(next(iterator))\n",
    "\n",
    "print(\"\")\n",
    "for d in iterator:\n",
    "    print(d)\n",
    "\n",
    "print(\"\")\n",
    "try:\n",
    "    next(iterator)\n",
    "except StopIteration:\n",
    "    print(\"Iterator is consumned\")"
   ]
  },
  {
   "cell_type": "markdown",
   "metadata": {},
   "source": [
    "## Exercice: \n",
    "Implement a function that print all element of a list without using a for loop"
   ]
  },
  {
   "cell_type": "code",
   "execution_count": null,
   "metadata": {},
   "outputs": [],
   "source": [
    "# DO IT"
   ]
  },
  {
   "cell_type": "markdown",
   "metadata": {},
   "source": [
    "Iterator implementation example:"
   ]
  },
  {
   "cell_type": "code",
   "execution_count": null,
   "metadata": {},
   "outputs": [],
   "source": [
    "class echo_n_times:\n",
    "    def __init__(self, value, n):\n",
    "        self.n = n\n",
    "        self.value = value\n",
    "        self.counter = 0\n",
    "\n",
    "    def __iter__(self):\n",
    "        return self\n",
    "\n",
    "    # Python 3 compatibility\n",
    "    def __next__(self):\n",
    "        if self.counter < self.n:\n",
    "            self.counter += 1\n",
    "            return self.counter, self.value\n",
    "        else:\n",
    "            raise StopIteration()\n",
    "\n",
    "\n",
    "for i, value in echo_n_times(\"HelloWorld\", 5):\n",
    "    print(i, value)\n"
   ]
  },
  {
   "cell_type": "markdown",
   "metadata": {},
   "source": [
    "Python provides generator functions as a convenient shortcut to building iterators.\n",
    "\n",
    "Generators are iterators, you can only iterate over them once. It’s because they do not store all the values in memory, they generate the values on the fly. You use them by iterating over them, either with a ‘for’ loop or by passing them to any function or construct that iterates. Most of the time generators are implemented as functions. However, they do not `return` a value, they `yield` it."
   ]
  },
  {
   "cell_type": "code",
   "execution_count": null,
   "metadata": {},
   "outputs": [],
   "source": [
    "def fibon(n):\n",
    "    a = b = 1\n",
    "    for i in range(n):\n",
    "        yield a\n",
    "        a, b = b, a + b\n",
    "\n",
    "\n",
    "for item in fibon(6):\n",
    "    print(item)"
   ]
  },
  {
   "cell_type": "markdown",
   "metadata": {},
   "source": [
    "## Exercice: \n",
    "Implement `echo_n_time` as a generator function"
   ]
  },
  {
   "cell_type": "code",
   "execution_count": null,
   "metadata": {},
   "outputs": [],
   "source": [
    "# DO IT"
   ]
  },
  {
   "cell_type": "markdown",
   "metadata": {},
   "source": [
    "#### Generator comprehensions"
   ]
  },
  {
   "cell_type": "code",
   "execution_count": null,
   "metadata": {},
   "outputs": [],
   "source": [
    "gen = (i for i in range(10) if i % 2 == 0)\n",
    "print(type(gen))"
   ]
  },
  {
   "cell_type": "markdown",
   "metadata": {},
   "source": [
    "# Map, Filter, lambda"
   ]
  },
  {
   "cell_type": "markdown",
   "metadata": {},
   "source": [
    "Map applies a function to all the items in an input_list."
   ]
  },
  {
   "cell_type": "code",
   "execution_count": null,
   "metadata": {},
   "outputs": [],
   "source": [
    "def square(x):\n",
    "    return x**2\n",
    "\n",
    "items = [1, 2, 3, 4, 5]\n",
    "print(list(map(square, items)))\n",
    "print(list(map(str, items)))\n"
   ]
  },
  {
   "cell_type": "markdown",
   "metadata": {},
   "source": [
    "As the name suggests, filter creates a list of elements for which a function returns true."
   ]
  },
  {
   "cell_type": "code",
   "execution_count": null,
   "metadata": {},
   "outputs": [],
   "source": [
    "numbers = range(-5, 5)\n",
    "\n",
    "def positive(x):\n",
    "    return x > 0\n",
    "\n",
    "print(list(filter(positive, numbers)))\n",
    "\n"
   ]
  },
  {
   "cell_type": "markdown",
   "metadata": {},
   "source": [
    "lambda are anonymous function"
   ]
  },
  {
   "cell_type": "code",
   "execution_count": null,
   "metadata": {},
   "outputs": [],
   "source": [
    "print(list(map(lambda x: x**2, range(0, 5))))"
   ]
  },
  {
   "cell_type": "markdown",
   "metadata": {},
   "source": [
    "# Decorators\n",
    "\n",
    "Decorators are a significant part of Python. In simple words: they are functions which modify the functionality of other functions."
   ]
  },
  {
   "cell_type": "markdown",
   "metadata": {},
   "source": [
    "# Context Managers\n",
    "\n",
    "Context managers allow you to allocate and release resources precisely when you want to. The most used example of context managers is the `with` statement. Suppose you have two related operations which you would like to execute as a pair, with a block of code in between. Context managers allow you to do specifically that. \n",
    "\n",
    "```python\n",
    "with open('some_file', 'w') as opened_file:\n",
    "    opened_file.write('Hola!')\n",
    "```\n",
    "\n",
    "It is the same as doing:\n",
    "\n",
    "```python\n",
    "file = open('some_file', 'w')\n",
    "try:\n",
    "    file.write('Hola!')\n",
    "finally:\n",
    "    file.close()\n",
    "```\n",
    "\n",
    "\n",
    "## Implementing a Context Manager as a Class:\n",
    "A context manager has an `__enter__` and `__exit__` method defined.\n",
    "\n",
    "```python\n",
    "class File(object):\n",
    "    def __init__(self, file_name, method):\n",
    "        self.file_obj = open(file_name, method)\n",
    "        \n",
    "    def __enter__(self):\n",
    "        return self.file_obj\n",
    "    \n",
    "    def __exit__(self, type, value, traceback):\n",
    "        self.file_obj.close()\n",
    "```\n",
    "\n",
    "## Exercice\n",
    "Implement a `timeit` context manager."
   ]
  },
  {
   "cell_type": "code",
   "execution_count": null,
   "metadata": {},
   "outputs": [],
   "source": [
    "# DO IT"
   ]
  },
  {
   "cell_type": "markdown",
   "metadata": {},
   "source": [
    "## Implementing a Context Manager as a Generator\n",
    "\n",
    "We can also implement Context Managers using decorators and generators. Python has a contextlib module for this very purpose. Instead of a class, we can implement a Context Manager using a generator function.\n",
    "\n",
    "```python\n",
    "from contextlib import contextmanager\n",
    "\n",
    "@contextmanager\n",
    "def open_file(name):\n",
    "    f = open(name, 'w')\n",
    "    yield f\n",
    "    f.close()\n",
    "    \n",
    "with open_file('some_file') as f:\n",
    "    f.write('hola!')\n",
    "```\n",
    "\n",
    "## Exercice:\n",
    "Implement `timeit` as a function"
   ]
  },
  {
   "cell_type": "code",
   "execution_count": null,
   "metadata": {},
   "outputs": [],
   "source": [
    "# DO IT"
   ]
  },
  {
   "cell_type": "markdown",
   "metadata": {},
   "source": [
    "# Builtins"
   ]
  },
  {
   "cell_type": "code",
   "execution_count": 217,
   "metadata": {},
   "outputs": [
    {
     "data": {
      "text/plain": [
       "['ArithmeticError',\n",
       " 'AssertionError',\n",
       " 'AttributeError',\n",
       " 'BaseException',\n",
       " 'BlockingIOError',\n",
       " 'BrokenPipeError',\n",
       " 'BufferError',\n",
       " 'BytesWarning',\n",
       " 'ChildProcessError',\n",
       " 'ConnectionAbortedError',\n",
       " 'ConnectionError',\n",
       " 'ConnectionRefusedError',\n",
       " 'ConnectionResetError',\n",
       " 'DeprecationWarning',\n",
       " 'EOFError',\n",
       " 'Ellipsis',\n",
       " 'EnvironmentError',\n",
       " 'Exception',\n",
       " 'False',\n",
       " 'FileExistsError',\n",
       " 'FileNotFoundError',\n",
       " 'FloatingPointError',\n",
       " 'FutureWarning',\n",
       " 'GeneratorExit',\n",
       " 'IOError',\n",
       " 'ImportError',\n",
       " 'ImportWarning',\n",
       " 'IndentationError',\n",
       " 'IndexError',\n",
       " 'InterruptedError',\n",
       " 'IsADirectoryError',\n",
       " 'KeyError',\n",
       " 'KeyboardInterrupt',\n",
       " 'LookupError',\n",
       " 'MemoryError',\n",
       " 'ModuleNotFoundError',\n",
       " 'NameError',\n",
       " 'None',\n",
       " 'NotADirectoryError',\n",
       " 'NotImplemented',\n",
       " 'NotImplementedError',\n",
       " 'OSError',\n",
       " 'OverflowError',\n",
       " 'PendingDeprecationWarning',\n",
       " 'PermissionError',\n",
       " 'ProcessLookupError',\n",
       " 'RecursionError',\n",
       " 'ReferenceError',\n",
       " 'ResourceWarning',\n",
       " 'RuntimeError',\n",
       " 'RuntimeWarning',\n",
       " 'StopAsyncIteration',\n",
       " 'StopIteration',\n",
       " 'SyntaxError',\n",
       " 'SyntaxWarning',\n",
       " 'SystemError',\n",
       " 'SystemExit',\n",
       " 'TabError',\n",
       " 'TimeoutError',\n",
       " 'True',\n",
       " 'TypeError',\n",
       " 'UnboundLocalError',\n",
       " 'UnicodeDecodeError',\n",
       " 'UnicodeEncodeError',\n",
       " 'UnicodeError',\n",
       " 'UnicodeTranslateError',\n",
       " 'UnicodeWarning',\n",
       " 'UserWarning',\n",
       " 'ValueError',\n",
       " 'Warning',\n",
       " 'ZeroDivisionError',\n",
       " '__IPYTHON__',\n",
       " '__build_class__',\n",
       " '__debug__',\n",
       " '__doc__',\n",
       " '__import__',\n",
       " '__loader__',\n",
       " '__name__',\n",
       " '__package__',\n",
       " '__spec__',\n",
       " 'abs',\n",
       " 'all',\n",
       " 'any',\n",
       " 'ascii',\n",
       " 'bin',\n",
       " 'bool',\n",
       " 'breakpoint',\n",
       " 'bytearray',\n",
       " 'bytes',\n",
       " 'callable',\n",
       " 'chr',\n",
       " 'classmethod',\n",
       " 'compile',\n",
       " 'complex',\n",
       " 'copyright',\n",
       " 'credits',\n",
       " 'delattr',\n",
       " 'dict',\n",
       " 'dir',\n",
       " 'display',\n",
       " 'divmod',\n",
       " 'enumerate',\n",
       " 'eval',\n",
       " 'exec',\n",
       " 'filter',\n",
       " 'float',\n",
       " 'format',\n",
       " 'frozenset',\n",
       " 'get_ipython',\n",
       " 'getattr',\n",
       " 'globals',\n",
       " 'hasattr',\n",
       " 'hash',\n",
       " 'help',\n",
       " 'hex',\n",
       " 'id',\n",
       " 'input',\n",
       " 'int',\n",
       " 'isinstance',\n",
       " 'issubclass',\n",
       " 'iter',\n",
       " 'len',\n",
       " 'license',\n",
       " 'list',\n",
       " 'locals',\n",
       " 'map',\n",
       " 'max',\n",
       " 'memoryview',\n",
       " 'min',\n",
       " 'next',\n",
       " 'object',\n",
       " 'oct',\n",
       " 'open',\n",
       " 'ord',\n",
       " 'pow',\n",
       " 'print',\n",
       " 'property',\n",
       " 'range',\n",
       " 'repr',\n",
       " 'reversed',\n",
       " 'round',\n",
       " 'set',\n",
       " 'setattr',\n",
       " 'slice',\n",
       " 'sorted',\n",
       " 'staticmethod',\n",
       " 'str',\n",
       " 'sum',\n",
       " 'super',\n",
       " 'tuple',\n",
       " 'type',\n",
       " 'vars',\n",
       " 'zip']"
      ]
     },
     "execution_count": 217,
     "metadata": {},
     "output_type": "execute_result"
    }
   ],
   "source": [
    "import builtins\n",
    "\n",
    "dir(builtins)"
   ]
  },
  {
   "cell_type": "markdown",
   "metadata": {},
   "source": [
    "# Exercice: Unique_Bidict\n",
    "\n",
    "Create a Dictionnary object where `values` can be used at `keys` \n",
    "\n",
    "\n",
    "A class can inherite from `collections.MutableMapping` to inherite from `dict`. (to get `keys()`, `values()`, `items()`... functions)\n",
    "\n",
    "\n",
    "`def __getitem__(self, key):` Called to implement evaluation of `dic[key]`\n",
    "\n",
    "`def __getitem__(self, key):`Called to implement assignment of `dic[key] = value`\n",
    "\n",
    "`def __delitem__(self, key):`Called to implement deletion of `del dic[key]`\n",
    "\n",
    "`def __iter__(self):` This method is called when an iterator is required. \n",
    "\n",
    "`def __len__(self):` Called to implement the built-in function `len(dic)`.\n",
    "\n",
    "`def __repr__(self):` Called by the repr() built-in function and by string conversions (reverse quotes) to compute the “official” string representation of an object. "
   ]
  },
  {
   "cell_type": "code",
   "execution_count": null,
   "metadata": {},
   "outputs": [],
   "source": [
    "# DO IT "
   ]
  }
 ],
 "metadata": {
  "kernelspec": {
   "display_name": "Python 3",
   "language": "python",
   "name": "python3"
  },
  "language_info": {
   "codemirror_mode": {
    "name": "ipython",
    "version": 3
   },
   "file_extension": ".py",
   "mimetype": "text/x-python",
   "name": "python",
   "nbconvert_exporter": "python",
   "pygments_lexer": "ipython3",
   "version": "3.7.3"
  }
 },
 "nbformat": 4,
 "nbformat_minor": 2
}
